{
 "cells": [
  {
   "cell_type": "code",
   "execution_count": 13,
   "metadata": {},
   "outputs": [],
   "source": [
    "import plotly"
   ]
  },
  {
   "cell_type": "code",
   "execution_count": 16,
   "metadata": {},
   "outputs": [
    {
     "data": {
      "text/html": [
       "<script>requirejs.config({paths: { 'plotly': ['https://cdn.plot.ly/plotly-latest.min']},});if(!window.Plotly) {{require(['plotly'],function(plotly) {window.Plotly=plotly;});}}</script>"
      ],
      "text/vnd.plotly.v1+html": [
       "<script>requirejs.config({paths: { 'plotly': ['https://cdn.plot.ly/plotly-latest.min']},});if(!window.Plotly) {{require(['plotly'],function(plotly) {window.Plotly=plotly;});}}</script>"
      ]
     },
     "metadata": {},
     "output_type": "display_data"
    },
    {
     "data": {
      "application/vnd.plotly.v1+json": {
       "data": [
        {
         "a": [
          75,
          70,
          75,
          5,
          10,
          10,
          20,
          10,
          15,
          10,
          20
         ],
         "b": [
          25,
          10,
          20,
          60,
          80,
          90,
          70,
          20,
          5,
          10,
          10
         ],
         "c": [
          0,
          20,
          5,
          35,
          10,
          0,
          10,
          70,
          80,
          80,
          70
         ],
         "marker": {
          "color": "#DB7365",
          "line": {
           "width": 2
          },
          "size": 14,
          "symbol": 100
         },
         "mode": "markers",
         "text": [
          "point 1",
          "point 2",
          "point 3",
          "point 4",
          "point 5",
          "point 6",
          "point 7",
          "point 8",
          "point 9",
          "point 10",
          "point 11"
         ],
         "type": "scatterternary"
        }
       ],
       "layout": {
        "annotations": [
         {
          "font": {
           "size": 15
          },
          "showarrow": false,
          "text": "Simple Ternary Plot with Markers",
          "x": 0.5,
          "y": 1.3
         }
        ],
        "ternary": {
         "aaxis": {
          "showgrid": true,
          "showline": true,
          "tickangle": 0,
          "tickcolor": "rgba(0,0,0,0)",
          "tickfont": {
           "size": 15
          },
          "ticklen": 5,
          "title": "Journalist",
          "titlefont": {
           "size": 20
          }
         },
         "baxis": {
          "showgrid": true,
          "showline": true,
          "tickangle": 45,
          "tickcolor": "rgba(0,0,0,0)",
          "tickfont": {
           "size": 15
          },
          "ticklen": 5,
          "title": "<br>Developer",
          "titlefont": {
           "size": 20
          }
         },
         "caxis": {
          "showgrid": true,
          "showline": true,
          "tickangle": -45,
          "tickcolor": "rgba(0,0,0,0)",
          "tickfont": {
           "size": 15
          },
          "ticklen": 5,
          "title": "<br>Designer",
          "titlefont": {
           "size": 20
          }
         },
         "sum": 100
        }
       }
      },
      "text/html": [
       "<div id=\"1d41740c-3904-4e93-a4b1-95e9919163ce\" style=\"height: 525px; width: 100%;\" class=\"plotly-graph-div\"></div><script type=\"text/javascript\">require([\"plotly\"], function(Plotly) { window.PLOTLYENV=window.PLOTLYENV || {};window.PLOTLYENV.BASE_URL=\"https://plot.ly\";Plotly.newPlot(\"1d41740c-3904-4e93-a4b1-95e9919163ce\", [{\"type\": \"scatterternary\", \"mode\": \"markers\", \"a\": [75, 70, 75, 5, 10, 10, 20, 10, 15, 10, 20], \"b\": [25, 10, 20, 60, 80, 90, 70, 20, 5, 10, 10], \"c\": [0, 20, 5, 35, 10, 0, 10, 70, 80, 80, 70], \"text\": [\"point 1\", \"point 2\", \"point 3\", \"point 4\", \"point 5\", \"point 6\", \"point 7\", \"point 8\", \"point 9\", \"point 10\", \"point 11\"], \"marker\": {\"symbol\": 100, \"color\": \"#DB7365\", \"size\": 14, \"line\": {\"width\": 2}}}], {\"ternary\": {\"sum\": 100, \"aaxis\": {\"title\": \"Journalist\", \"titlefont\": {\"size\": 20}, \"tickangle\": 0, \"tickfont\": {\"size\": 15}, \"tickcolor\": \"rgba(0,0,0,0)\", \"ticklen\": 5, \"showline\": true, \"showgrid\": true}, \"baxis\": {\"title\": \"<br>Developer\", \"titlefont\": {\"size\": 20}, \"tickangle\": 45, \"tickfont\": {\"size\": 15}, \"tickcolor\": \"rgba(0,0,0,0)\", \"ticklen\": 5, \"showline\": true, \"showgrid\": true}, \"caxis\": {\"title\": \"<br>Designer\", \"titlefont\": {\"size\": 20}, \"tickangle\": -45, \"tickfont\": {\"size\": 15}, \"tickcolor\": \"rgba(0,0,0,0)\", \"ticklen\": 5, \"showline\": true, \"showgrid\": true}}, \"annotations\": [{\"showarrow\": false, \"text\": \"Simple Ternary Plot with Markers\", \"x\": 0.5, \"y\": 1.3, \"font\": {\"size\": 15}}]}, {\"showLink\": true, \"linkText\": \"Export to plot.ly\"})});</script>"
      ],
      "text/vnd.plotly.v1+html": [
       "<div id=\"1d41740c-3904-4e93-a4b1-95e9919163ce\" style=\"height: 525px; width: 100%;\" class=\"plotly-graph-div\"></div><script type=\"text/javascript\">require([\"plotly\"], function(Plotly) { window.PLOTLYENV=window.PLOTLYENV || {};window.PLOTLYENV.BASE_URL=\"https://plot.ly\";Plotly.newPlot(\"1d41740c-3904-4e93-a4b1-95e9919163ce\", [{\"type\": \"scatterternary\", \"mode\": \"markers\", \"a\": [75, 70, 75, 5, 10, 10, 20, 10, 15, 10, 20], \"b\": [25, 10, 20, 60, 80, 90, 70, 20, 5, 10, 10], \"c\": [0, 20, 5, 35, 10, 0, 10, 70, 80, 80, 70], \"text\": [\"point 1\", \"point 2\", \"point 3\", \"point 4\", \"point 5\", \"point 6\", \"point 7\", \"point 8\", \"point 9\", \"point 10\", \"point 11\"], \"marker\": {\"symbol\": 100, \"color\": \"#DB7365\", \"size\": 14, \"line\": {\"width\": 2}}}], {\"ternary\": {\"sum\": 100, \"aaxis\": {\"title\": \"Journalist\", \"titlefont\": {\"size\": 20}, \"tickangle\": 0, \"tickfont\": {\"size\": 15}, \"tickcolor\": \"rgba(0,0,0,0)\", \"ticklen\": 5, \"showline\": true, \"showgrid\": true}, \"baxis\": {\"title\": \"<br>Developer\", \"titlefont\": {\"size\": 20}, \"tickangle\": 45, \"tickfont\": {\"size\": 15}, \"tickcolor\": \"rgba(0,0,0,0)\", \"ticklen\": 5, \"showline\": true, \"showgrid\": true}, \"caxis\": {\"title\": \"<br>Designer\", \"titlefont\": {\"size\": 20}, \"tickangle\": -45, \"tickfont\": {\"size\": 15}, \"tickcolor\": \"rgba(0,0,0,0)\", \"ticklen\": 5, \"showline\": true, \"showgrid\": true}}, \"annotations\": [{\"showarrow\": false, \"text\": \"Simple Ternary Plot with Markers\", \"x\": 0.5, \"y\": 1.3, \"font\": {\"size\": 15}}]}, {\"showLink\": true, \"linkText\": \"Export to plot.ly\"})});</script>"
      ]
     },
     "metadata": {},
     "output_type": "display_data"
    }
   ],
   "source": [
    "import plotly.plotly as py\n",
    "\n",
    "import plotly.graph_objs as go\n",
    "plotly.tools.set_config_file(world_readable=False,\n",
    "                             sharing='private')\n",
    "plotly.offline.init_notebook_mode(connected=True)\n",
    "rawData = [\n",
    "    {'journalist':75,'developer':25,'designer':0,'label':'point 1'},\n",
    "    {'journalist':70,'developer':10,'designer':20,'label':'point 2'},\n",
    "    {'journalist':75,'developer':20,'designer':5,'label':'point 3'},\n",
    "    {'journalist':5,'developer':60,'designer':35,'label':'point 4'},\n",
    "    {'journalist':10,'developer':80,'designer':10,'label':'point 5'},\n",
    "    {'journalist':10,'developer':90,'designer':0,'label':'point 6'},\n",
    "    {'journalist':20,'developer':70,'designer':10,'label':'point 7'},\n",
    "    {'journalist':10,'developer':20,'designer':70,'label':'point 8'},\n",
    "    {'journalist':15,'developer':5,'designer':80,'label':'point 9'},\n",
    "    {'journalist':10,'developer':10,'designer':80,'label':'point 10'},\n",
    "    {'journalist':20,'developer':10,'designer':70,'label':'point 11'},\n",
    "];\n",
    "\n",
    "def makeAxis(title, tickangle): \n",
    "    return {\n",
    "      'title': title,\n",
    "      'titlefont': { 'size': 20 },\n",
    "      'tickangle': tickangle,\n",
    "      'tickfont': { 'size': 15 },\n",
    "      'tickcolor': 'rgba(0,0,0,0)',\n",
    "      'ticklen': 5,\n",
    "      'showline': True,\n",
    "      'showgrid': True\n",
    "    }\n",
    "\n",
    "data = [{ \n",
    "    'type': 'scatterternary',\n",
    "    'mode': 'markers',\n",
    "    'a': [i for i in map(lambda x: x['journalist'], rawData)],\n",
    "    'b': [i for i in map(lambda x: x['developer'], rawData)],\n",
    "    'c': [i for i in map(lambda x: x['designer'], rawData)],\n",
    "    'text': [i for i in map(lambda x: x['label'], rawData)],\n",
    "    'marker': {\n",
    "        'symbol': 100,\n",
    "        'color': '#DB7365',\n",
    "        'size': 14,\n",
    "        'line': { 'width': 2 }\n",
    "    },\n",
    "    }]\n",
    "\n",
    "layout = {\n",
    "    'ternary': {\n",
    "        'sum': 100,\n",
    "        'aaxis': makeAxis('Journalist', 0),\n",
    "        'baxis': makeAxis('<br>Developer', 45),\n",
    "        'caxis': makeAxis('<br>Designer', -45)\n",
    "    },\n",
    "    'annotations': [{\n",
    "      'showarrow': False,\n",
    "      'text': 'Simple Ternary Plot with Markers',\n",
    "        'x': 0.5,\n",
    "        'y': 1.3,\n",
    "        'font': { 'size': 15 }\n",
    "    }]\n",
    "}\n",
    "\n",
    "fig = {'data': data, 'layout': layout}\n",
    "plotly.offline.iplot(fig, validate=False)"
   ]
  },
  {
   "cell_type": "code",
   "execution_count": 15,
   "metadata": {},
   "outputs": [
    {
     "name": "stdout",
     "output_type": "stream",
     "text": [
      "ok\n"
     ]
    }
   ],
   "source": []
  },
  {
   "cell_type": "code",
   "execution_count": null,
   "metadata": {
    "collapsed": true
   },
   "outputs": [],
   "source": []
  }
 ],
 "metadata": {
  "kernelspec": {
   "display_name": "Python 3",
   "language": "python",
   "name": "python3"
  },
  "language_info": {
   "codemirror_mode": {
    "name": "ipython",
    "version": 3
   },
   "file_extension": ".py",
   "mimetype": "text/x-python",
   "name": "python",
   "nbconvert_exporter": "python",
   "pygments_lexer": "ipython3",
   "version": "3.6.1"
  }
 },
 "nbformat": 4,
 "nbformat_minor": 2
}
