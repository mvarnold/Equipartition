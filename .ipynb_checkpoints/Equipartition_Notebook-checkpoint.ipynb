{
 "cells": [
  {
   "cell_type": "markdown",
   "metadata": {},
   "source": [
    "# For things to work smoothly, we need to import kmedians from the local version of vq, or replace your scipy vq.py file with the one in this folder"
   ]
  },
  {
   "cell_type": "code",
   "execution_count": 1,
   "metadata": {},
   "outputs": [
    {
     "name": "stdout",
     "output_type": "stream",
     "text": [
      "/Users/Winston/anaconda3/lib/python3.6/site-packages/scipy/cluster/vq.py\n"
     ]
    }
   ],
   "source": [
    "from numpy import array\n",
    "import inspect\n",
    "import subprocess\n",
    "import shlex\n",
    "import numpy as np\n",
    "import scipy\n",
    "import scipy.cluster.vq as vq1\n",
    "from scipy.cluster.vq import vq, kmeans, whiten, kmedians\n",
    "#from vq import vq, kmeans, whiten, kmedians  ## issues with this\n",
    "import matplotlib.pyplot as plt\n",
    "import os\n",
    "import time\n",
    "print(os.path.abspath(scipy.cluster.vq.__file__))\n",
    "colors = [\"#2078B5\", \"#FF7F0F\", \"#2CA12C\", \"#D72827\", \"#9467BE\", \"#8C574B\",\n",
    "            \"#E478C2\", \"#808080\", \"#BCBE20\", \"#17BED0\", \"#AEC8E9\", \"#FFBC79\", \n",
    "            \"#98E08B\", \"#FF9896\", \"#C6B1D6\", \"#C59D94\", \"#F8B7D3\", \"#C8C8C8\", \n",
    "           \"#DCDC8E\", \"#9EDAE6\"]"
   ]
  },
  {
   "cell_type": "markdown",
   "metadata": {},
   "source": [
    "# Create Data"
   ]
  },
  {
   "cell_type": "code",
   "execution_count": 2,
   "metadata": {},
   "outputs": [
    {
     "data": {
      "text/plain": [
       "0"
      ]
     },
     "execution_count": 2,
     "metadata": {},
     "output_type": "execute_result"
    }
   ],
   "source": [
    "PATH = 'cart-1.2.2/'\n",
    "N = 50000           #default number of points to draw from distribution\n",
    "dist_type = \"HOT_gaussian\"\n",
    "\n",
    "dimx = 1024\n",
    "dimy = 1024\n",
    "pixel_gap = 300\n",
    "plot = \"'True'\"\n",
    "\n",
    "\n",
    "# MAKE SHELL SCRIPT \n",
    "file = open(\"dist_gen.sh\",\"w\") \n",
    "file.write(\"#!/bin/sh\\n\") \n",
    "file.write(\"python new_dist_gen.py -N \"+str(N) +\" -d \"+str(dist_type)+\" -x \"+str(dimx)+ \\\n",
    "    \" -y \"+str(dimy)+\" -p \"+str(pixel_gap) + \" -P \"+str(plot)+\"\\n\")\n",
    "# for different sizes and distributions, check help doc on new_dist_gen.py\n",
    "# file.write(\"python new_dist_gen.py\\n\")\n",
    "\n",
    "file.close() \n",
    "\n",
    "# MAKE EXECUTABLE\n",
    "p=subprocess.call(['chmod','a+x',\"dist_gen.sh\"])\n",
    "\n",
    "\n",
    "p = subprocess.Popen(['./'+\"dist_gen.sh\"], stdout=subprocess.PIPE, stderr=subprocess.PIPE) \n",
    "p.wait()"
   ]
  },
  {
   "cell_type": "markdown",
   "metadata": {},
   "source": [
    "# Show Distribution"
   ]
  },
  {
   "cell_type": "code",
   "execution_count": 3,
   "metadata": {},
   "outputs": [
    {
     "data": {
      "image/png": "[encoded data removed]",
      "text/plain": [
       "<Figure size 432x288 with 1 Axes>"
      ]
     },
     "metadata": {},
     "output_type": "display_data"
    }
   ],
   "source": [
    "newdist = np.loadtxt('cart-1.2.2/'+str(dimx)+str(dimy)+str(dist_type)+'.dat')\n",
    "plt.imshow(np.rot90(newdist))\n",
    "plt.show()"
   ]
  },
  {
   "cell_type": "code",
   "execution_count": 4,
   "metadata": {
    "collapsed": true
   },
   "outputs": [],
   "source": [
    "#dat2 = np.loadtxt('cart-1.2.2/xy'+str(dimx)+str(dimy)+str(dist_type)+'.dat')\n",
    "dat2 = np.loadtxt('cart-1.2.2/xy'+str(dimx)+str(dimy)+str(dist_type)+'.dat')"
   ]
  },
  {
   "cell_type": "code",
   "execution_count": null,
   "metadata": {
    "scrolled": false
   },
   "outputs": [],
   "source": [
    "\n",
    "file = open(PATH+\"exp_cart.sh\",\"w\") \n",
    "file.write(\"#!/bin/sh\\n\") \n",
    "file.write(\"./cart \"+str(dimx) +\" \"+str(dimy)+\" \"+str(dimx)+str(dimy)+str(dist_type)+'.dat '+str(dist_type)+\"out.dat\"+\"\\n\")\n",
    "file.close() \n",
    "\n",
    "# MAKE EXECUTABLE\n",
    "p=subprocess.call(['chmod','a+x',PATH+\"exp_cart.sh\"])\n",
    "\n",
    "\n",
    "p=subprocess.Popen(['./exp_cart.sh'], cwd =PATH) # makes expout.dat\n",
    "p.wait()\n",
    "#p=subprocess.Popen(['./gauss_cart.sh'], cwd =PATH)\n",
    "#p.wait()\n",
    "\n",
    "N=50                                       # number of clusters\n",
    "f, axs = plt.subplots(1, 2,figsize=(15,7))\n",
    "\n",
    "plt.tight_layout(pad=1.4, w_pad=5.5, h_pad=13.0)\n",
    "axs = axs.ravel()\n",
    "data_list = [dat2,dat3]\n",
    "titles = [\"Exp\",\"Exp Diffused\"]\n",
    "types = ['exp']\n",
    "\n",
    "dat = np.zeros([1,2])\n",
    "dat4 = np.zeros([1,2])\n",
    "\n",
    "for k,j in enumerate([0]):\n",
    "    \n",
    "    features = data_list[k]\n",
    "    codebook, distortion = kmedians(features,N)\n",
    "    code, dist= vq(features,codebook)\n",
    "    \n",
    "    for i in range(N):\n",
    "        \n",
    "        # MAKE SHELL SCRIPT \n",
    "        file = open(PATH+\"interp\"+types[k]+str(i)+\".sh\",\"w\") \n",
    "        file.write(\"#!/bin/sh\\n\") \n",
    "        file.write(\"cat \"+types[k]+str(i)+\".dat | ./interp \"+str(dimx)+\" \"+str(dimy)+\" \"\\\n",
    "                   +types[k]+\"out.dat > \"+types[k]+\"out\"+str(i)+\".dat\\n\")\n",
    "        if i ==range(N)[-1]:\n",
    "            file.write(\"cat \"+\"dif\"+types[k]+str(i)+\".dat | ./interp \"+str(dimx)+\" \"+str(dimy)+\" \"\\\n",
    "                   +types[k]+\"out.dat > \"+\"dif\"+types[k]+\"out\"+str(i)+\".dat\\n\")\n",
    "        file.close()  \n",
    "                    \n",
    "        # MAKE EXECUTABLE\n",
    "        p=subprocess.call(['chmod','a+x',PATH+\"interp\"+types[k]+str(i)+\".sh\"])\n",
    "        # save data to go to interp\n",
    "        x = features[code==i,0]\n",
    "        y = features[code==i,1]\n",
    "        \n",
    "        \n",
    "        np.savetxt(PATH+types[k]+str(i)+'.dat',np.column_stack([x,y]),fmt ='%.18f',delimiter=' ')\n",
    "        #np.savetxt(PATH+\"dif\"+types[k]+str(i)+'.dat',np.column_stack([codebook[:,0],codebook[:,1]]),fmt ='%.18f',delimiter=' ')\n",
    "        \n",
    "        # plot\n",
    "        axs[j].plot(x,y,',', c=colors[i%len(colors)])\n",
    "        \n",
    "        # call interp\n",
    "        p = subprocess.Popen(['./'+\"interp\"+types[k]+str(i)+\".sh\"], cwd =PATH) # makes expout.dat\n",
    "        p.wait()        \n",
    "        \n",
    "        # loads data to run through interp shell script\n",
    "        data=np.loadtxt(PATH+types[k]+'out'+str(i)+'.dat') #Gaussout0.dat\n",
    "        \n",
    "        \n",
    "\n",
    "        axs[j+1].plot(data[:,0],data[:,1],',', c=colors[i%len(colors)])\n",
    "        if types[k]==\"exp\":\n",
    "            dat = np.append(dat,data,axis=0)\n",
    "        elif types[k]==\"gauss\":\n",
    "            dat4 = np.append(dat4,data,axis=0)\n",
    "        \n",
    "        # delete used shell script\n",
    "        p = subprocess.call(['rm',PATH+\"interp\"+types[k]+str(i)+\".sh\"])\n",
    "        \n",
    "        p = subprocess.call(['rm',PATH+types[k]+\"out\"+str(i)+\".dat\"])\n",
    "        p = subprocess.call(['rm',PATH+types[k]+str(i)+\".dat\"])\n",
    "        \n",
    "        \n",
    "                             \n",
    "    axs[j].plot(codebook[:,0],codebook[:,1],'ko',ms=3)\n",
    "    \n",
    "    dif_medians = np.loadtxt(PATH+'dif'+types[k]+'out'+str(i)+'.dat')\n",
    "    axs[j+1].plot(dif_medians[:,0],dif_medians[:,1],'ko',ms=3)\n",
    "        \n",
    "for j in range(2):    \n",
    "    axs[j].set_title(titles[j])\n",
    "\n",
    "plt.show()"
   ]
  },
  {
   "cell_type": "code",
   "execution_count": 133,
   "metadata": {},
   "outputs": [
    {
     "data": {
      "image/png": "[encoded data removed]",
      "text/plain": [
       "<matplotlib.figure.Figure at 0x110614e80>"
      ]
     },
     "metadata": {},
     "output_type": "display_data"
    }
   ],
   "source": [
    "bin_min = 190\n",
    "bin_max = 265\n",
    "\n",
    "#axs[1].plot([bin_min, bin_min,bin_max,bin_max,bin_min], [bin_min,bin_max,bin_max,bin_min,bin_min], 'k-',lw=.5) \n",
    "#axs[3].plot([bin_min, bin_min,bin_max,bin_max,bin_min], [bin_min,bin_max,bin_max,bin_min,bin_min], 'k-',lw=.5) \n",
    "    \n",
    "    \n",
    "## Histograms\n",
    "binsize = 30\n",
    "bigbin = 20\n",
    "\n",
    "## exp raw\n",
    "Hexdat,xedge,yedge=np.histogram2d(dat2[:,0],dat2[:,1],bins=[binsize,binsize],range=[[200, 270], [200, 270]]) \n",
    "\n",
    "H,xedge,yedge=np.histogram2d(dat[:,0],dat[:,1],bins=[binsize,binsize],range=[[bin_min, bin_max], [bin_min, bin_max]]) #BINS = SIZE/2*PIXELGAP\n",
    "\n",
    "## Gauss Raw\n",
    "H2,xedge,yedge=np.histogram2d(dat3[:,0],dat3[:,1],bins=[binsize,binsize],range=[[200, 300], [200, 300]]) #BINS = SIZE/2*PIXELGAP\n",
    "\n",
    "H3,xedge,yedge=np.histogram2d(dat4[:,0],dat4[:,1],bins=[binsize,binsize],range=[[bin_min, bin_max], [bin_min, bin_max]]) #BINS = SIZE/2*PIXELGAP\n",
    "\n",
    "\n",
    "plt.axes([0.05, 0.475, .4, .1] )\n",
    "plt.hist(Hexdat.flatten(),bins = 25,histtype = \"bar\")\n",
    "plt.yscale('log', nonposy='clip')\n",
    "plt.axes([0.57, 0.475, .4, .1] )\n",
    "plt.hist(H.flatten(),bins = 25,histtype = \"bar\")\n",
    "plt.yscale('log', nonposy='clip')\n",
    "\n",
    "plt.axes([0.05, -0.1, .4, .1] )\n",
    "plt.hist(H2.flatten(),bins = 25,histtype = \"bar\")\n",
    "plt.yscale('log', nonposy='clip')\n",
    "plt.axes([0.57, -0.1, .4, .1] )\n",
    "plt.hist(H3.flatten(),bins = 25,histtype = \"bar\")\n",
    "plt.yscale('log', nonposy='clip')\n",
    "\n",
    "plt.show()"
   ]
  },
  {
   "cell_type": "code",
   "execution_count": 142,
   "metadata": {},
   "outputs": [
    {
     "name": "stdout",
     "output_type": "stream",
     "text": [
      "49\n"
     ]
    }
   ],
   "source": [
    "print(range(N)[-1])"
   ]
  },
  {
   "cell_type": "code",
   "execution_count": null,
   "metadata": {
    "collapsed": true
   },
   "outputs": [],
   "source": []
  }
 ],
 "metadata": {
  "kernelspec": {
   "display_name": "Python 3",
   "language": "python",
   "name": "python3"
  },
  "language_info": {
   "codemirror_mode": {
    "name": "ipython",
    "version": 3
   },
   "file_extension": ".py",
   "mimetype": "text/x-python",
   "name": "python",
   "nbconvert_exporter": "python",
   "pygments_lexer": "ipython3",
   "version": "3.6.1"
  }
 },
 "nbformat": 4,
 "nbformat_minor": 2
}
